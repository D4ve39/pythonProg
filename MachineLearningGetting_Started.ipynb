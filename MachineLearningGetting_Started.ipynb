{
  "nbformat": 4,
  "nbformat_minor": 0,
  "metadata": {
    "colab": {
      "name": "Copie de Getting Started",
      "provenance": [],
      "collapsed_sections": [],
      "include_colab_link": true
    },
    "kernelspec": {
      "name": "python3",
      "display_name": "Python 3"
    },
    "language_info": {
      "name": "python"
    }
  },
  "cells": [
    {
      "cell_type": "markdown",
      "metadata": {
        "id": "view-in-github",
        "colab_type": "text"
      },
      "source": [
        "<a href=\"https://colab.research.google.com/github/D4ve39/pythonProg/blob/master/MachineLearningGetting_Started.ipynb\" target=\"_parent\"><img src=\"https://colab.research.google.com/assets/colab-badge.svg\" alt=\"Open In Colab\"/></a>"
      ]
    },
    {
      "cell_type": "markdown",
      "metadata": {
        "id": "0HDje8AL8hbe"
      },
      "source": [
        "# Welcome to the ML Workshop \"Getting Started\"\n",
        "\n",
        "The objective of this notebook is to help you get familiar with how Python Notebooks, and in particular Colab, works. Don't see this as an exercise, more as a way to play around with the platform."
      ]
    },
    {
      "cell_type": "markdown",
      "metadata": {
        "id": "c2jp6l_l4lQw"
      },
      "source": [
        "# Imports <a class=\"anchor\" id=\"imports\"></a>\n",
        "\n",
        "Python modules contain software and functions we can import with the `import` statement."
      ]
    },
    {
      "cell_type": "code",
      "metadata": {
        "id": "g_s8hC984lQx"
      },
      "source": [
        "# simple import\n",
        "import pandas\n",
        "\n",
        "# import a module and rename \n",
        "import numpy as np\n",
        "\n",
        "# import a module's class\n",
        "from sklearn.linear_model import LinearRegression"
      ],
      "execution_count": 1,
      "outputs": []
    },
    {
      "cell_type": "markdown",
      "metadata": {
        "id": "KTDR_u-Y4lQy"
      },
      "source": [
        "**Example:** Now we can access the logarithm function in `numpy` as `np.log(x)`."
      ]
    },
    {
      "cell_type": "markdown",
      "metadata": {
        "id": "U_g2Kb124lQy"
      },
      "source": [
        "# Variables <a class=\"anchor\" id=\"variables\"></a>\n",
        "\n",
        "We have the typical data types:\n",
        "\n",
        "    int, float, str, list, tuple, dict\n",
        "    \n",
        "But will also make intensive use of `numpy.array`s, see the [NumPy](#numpy) section."
      ]
    },
    {
      "cell_type": "code",
      "metadata": {
        "id": "j7nV9nM54lQz",
        "colab": {
          "base_uri": "https://localhost:8080/"
        },
        "outputId": "a594fcad-4b08-4b01-9c23-78f1521c6eb7"
      },
      "source": [
        "print(\"int:\", 1)\n",
        "print(\"float:\", 2.0)\n",
        "print(\"str:\", \"bla\")\n",
        "print(\"list:\", [\"Item 1\", 2])  # lists items can be changed, new items added and existing removed\n",
        "print(\"tuple:\", (1, \"Item 2\"))  # tuples are fixed and cannot be changed\n",
        "print(\"dict:\", {\"Key 1\": 1, \"Key 2\": 2})  # access via my_dict[\"Key 1\"]"
      ],
      "execution_count": 2,
      "outputs": [
        {
          "output_type": "stream",
          "text": [
            "int: 1\n",
            "float: 2.0\n",
            "str: bla\n",
            "list: ['Item 1', 2]\n",
            "tuple: (1, 'Item 2')\n",
            "dict: {'Key 1': 1, 'Key 2': 2}\n"
          ],
          "name": "stdout"
        }
      ]
    },
    {
      "cell_type": "markdown",
      "metadata": {
        "id": "0kdCs5p64lQz"
      },
      "source": [
        "# Loops <a class=\"anchor\" id=\"loops\"></a>\n",
        "\n",
        "1. the `for` loop\n",
        "\n",
        "        for i in range(n):\n",
        "            # this goes from 0 to n-1\n",
        "        \n",
        "        for element in my_list:\n",
        "            # this iterates over the items in my_list\n",
        "    \n",
        "2. the `while` loop\n",
        "\n",
        "        while(condition is True):\n",
        "            # this goes on"
      ]
    },
    {
      "cell_type": "code",
      "metadata": {
        "id": "c5mFDB4D4lQz",
        "colab": {
          "base_uri": "https://localhost:8080/"
        },
        "outputId": "089c54fb-dcd5-4769-81d9-4cfef9e7762e"
      },
      "source": [
        "manual_sum = 0\n",
        "for i in range(10):\n",
        "    print(\"Adding\", i)\n",
        "    manual_sum += i\n",
        "\n",
        "print(\"Result:\", manual_sum)"
      ],
      "execution_count": 3,
      "outputs": [
        {
          "output_type": "stream",
          "text": [
            "Adding 0\n",
            "Adding 1\n",
            "Adding 2\n",
            "Adding 3\n",
            "Adding 4\n",
            "Adding 5\n",
            "Adding 6\n",
            "Adding 7\n",
            "Adding 8\n",
            "Adding 9\n",
            "Result: 45\n"
          ],
          "name": "stdout"
        }
      ]
    },
    {
      "cell_type": "code",
      "metadata": {
        "id": "4dFQbN3s4lQ0",
        "colab": {
          "base_uri": "https://localhost:8080/"
        },
        "outputId": "a1d1d982-ff45-429c-fe12-acb972b22319"
      },
      "source": [
        "for animal in [\"Bear\", \"Cockroach\", \"Lion\", \"Bumblebee\"]:\n",
        "    print(animal)"
      ],
      "execution_count": 4,
      "outputs": [
        {
          "output_type": "stream",
          "text": [
            "Bear\n",
            "Cockroach\n",
            "Lion\n",
            "Bumblebee\n"
          ],
          "name": "stdout"
        }
      ]
    },
    {
      "cell_type": "code",
      "metadata": {
        "id": "b-CeuCjj4lQ0",
        "colab": {
          "base_uri": "https://localhost:8080/"
        },
        "outputId": "e7c2af26-a805-4275-faf9-cdaae02bca82"
      },
      "source": [
        "value = 2\n",
        "threshold = 300\n",
        "\n",
        "while value < threshold:\n",
        "    print(value)\n",
        "    value = value**2 "
      ],
      "execution_count": null,
      "outputs": [
        {
          "output_type": "stream",
          "text": [
            "2\n",
            "4\n",
            "16\n",
            "256\n"
          ],
          "name": "stdout"
        }
      ]
    },
    {
      "cell_type": "markdown",
      "metadata": {
        "id": "gbylSnON4lQ0"
      },
      "source": [
        "# Functions <a class=\"anchor\" id=\"functions\"></a>\n",
        "\n",
        "General structure is \n",
        "\n",
        "    def function_name(parameter_1, parameter_2, ...):\n",
        "        # function body: \n",
        "        # do some computations here\n",
        "        \n",
        "        # return can be omitted if you don't need to return anything\n",
        "        return some_result \n",
        "\n",
        "and if you want to make people reading your code happy, add (at least one short) comment on what the function is doing:\n",
        "\n",
        "    def function_name(..):\n",
        "        \"\"\"\n",
        "        What does this function do?? Tell me!\n",
        "        \"\"\""
      ]
    },
    {
      "cell_type": "code",
      "metadata": {
        "id": "N-sd4Jr04lQ1",
        "colab": {
          "base_uri": "https://localhost:8080/",
          "height": 35
        },
        "outputId": "f6074796-d708-427e-a7be-a33c8f3bd676"
      },
      "source": [
        "def append_banana(string):\n",
        "    \"\"\"\n",
        "    This function appends 'banana' to the input.\n",
        "    \"\"\"\n",
        "    string_with_banana = string + \"banana\"\n",
        "    return string_with_banana\n",
        "\n",
        "append_banana(\"anana\")"
      ],
      "execution_count": 5,
      "outputs": [
        {
          "output_type": "execute_result",
          "data": {
            "application/vnd.google.colaboratory.intrinsic+json": {
              "type": "string"
            },
            "text/plain": [
              "'ananabanana'"
            ]
          },
          "metadata": {
            "tags": []
          },
          "execution_count": 5
        }
      ]
    },
    {
      "cell_type": "markdown",
      "metadata": {
        "id": "YzyO2jWV4lQ1"
      },
      "source": [
        "You can also return a tuple of results."
      ]
    },
    {
      "cell_type": "code",
      "metadata": {
        "id": "UMdXtFoM4lQ2",
        "colab": {
          "base_uri": "https://localhost:8080/"
        },
        "outputId": "8bfc4c3c-bac9-4b05-87d1-724b5cdf7066"
      },
      "source": [
        "def find_minimum_element(array):\n",
        "    \"\"\"\n",
        "    Returns the value and index of the smallest value in `array`.\n",
        "    \"\"\"\n",
        "    index, value = 0, 0\n",
        "    for i in range(array.size):\n",
        "        if array[i] < value:\n",
        "            value = array[i]\n",
        "            index = i\n",
        "            \n",
        "    return index, value\n",
        "\n",
        "my_array = np.array([1, 2, 5, -1, 10])\n",
        "index, value = find_minimum_element(my_array)\n",
        "\n",
        "print(\"The minimum value is {} at index {}\".format(value, index))"
      ],
      "execution_count": null,
      "outputs": [
        {
          "output_type": "stream",
          "text": [
            "The minimum value is -1 at index 3\n"
          ],
          "name": "stdout"
        }
      ]
    },
    {
      "cell_type": "markdown",
      "metadata": {
        "id": "I_IYsQTq4lQ2"
      },
      "source": [
        "# Classes <a class=\"anchor\" id=\"classes\"></a>\n",
        "\n",
        "Classes are objects that can\n",
        "* store variables (_member variables_)\n",
        "* have specific functions just for them (_methods_)\n",
        "\n",
        "A class is used as\n",
        "\n",
        "    class MyClass:\n",
        "        self.my_member_variable = 10\n",
        "    \n",
        "        def __init__(self, initial_parameters):\n",
        "            # This is called when we first create the an object\n",
        "            # of type `MyClass`. It's optional!\n",
        "            \n",
        "        def my_method(self, parameter):\n",
        "            # do something\n",
        "         \n",
        "but this will quickly become clear in an example."
      ]
    },
    {
      "cell_type": "code",
      "metadata": {
        "id": "n3ojgKTv4lQ2",
        "colab": {
          "base_uri": "https://localhost:8080/"
        },
        "outputId": "28a93588-ef90-4c0e-89df-2ca68da4720e"
      },
      "source": [
        "class ShoppingList:\n",
        "    def __init__(self, title):\n",
        "        self.list = []\n",
        "        self.title = title\n",
        "        \n",
        "    def add(self, item):\n",
        "        \"\"\"\n",
        "        Add an item to the shopping list.\n",
        "        \"\"\"\n",
        "        self.list.append(item)\n",
        "        \n",
        "    def list_items(self):\n",
        "        \"\"\"\n",
        "        List the items on the shopping list.\n",
        "        \"\"\"\n",
        "        print(\"List:\", self.title)\n",
        "        for item in self.list:\n",
        "            print(\"*\", item)\n",
        "    \n",
        "# Create an object of type ShoppingList, this calls __init__\n",
        "groceries = ShoppingList(\"Shop on Saturday\")\n",
        "\n",
        "# Add a few items to our shopping list with the method `add`\n",
        "groceries.add(\"Milk\")\n",
        "groceries.add(\"Flamethrower\")\n",
        "groceries.add(\"Bulldozer\")\n",
        "\n",
        "# List the items with the method `list_items`\n",
        "groceries.list_items()"
      ],
      "execution_count": null,
      "outputs": [
        {
          "output_type": "stream",
          "text": [
            "List: Shop on Saturday\n",
            "* Milk\n",
            "* Flamethrower\n",
            "* Bulldozer\n"
          ],
          "name": "stdout"
        }
      ]
    },
    {
      "cell_type": "markdown",
      "metadata": {
        "id": "D0CEXop34lQ4"
      },
      "source": [
        "# NumPy <a class=\"anchor\" id=\"numpy\"></a>\n",
        "\n",
        "The Num(erical)Py(thon) module provides the `array` type and basic operations on them."
      ]
    },
    {
      "cell_type": "code",
      "metadata": {
        "id": "mZ1-Ucg64lQ5",
        "colab": {
          "base_uri": "https://localhost:8080/"
        },
        "outputId": "337ace66-93df-4b14-ff7b-38ecb5bc8902"
      },
      "source": [
        "v = np.array([1, 0.2, 1])\n",
        "A = np.array([ [1, 2, 1],  # we use nested arrays as matrices\n",
        "               [3, 4, 3],\n",
        "               [5, 6, 5] ])\n",
        "\n",
        "print(\"Array:\", v)\n",
        "print(\"Matrix:\\n\", A)\n",
        "print(\"Product:\", A.dot(v))  # not `*`, that would be an entry-wise multiplication!"
      ],
      "execution_count": null,
      "outputs": [
        {
          "output_type": "stream",
          "text": [
            "Array: [1.  0.2 1. ]\n",
            "Matrix:\n",
            " [[1 2 1]\n",
            " [3 4 3]\n",
            " [5 6 5]]\n",
            "Product: [ 2.4  6.8 11.2]\n"
          ],
          "name": "stdout"
        }
      ]
    },
    {
      "cell_type": "markdown",
      "metadata": {
        "id": "Ayvc99vm4lQ5"
      },
      "source": [
        "Here a few functions for creating arrays:"
      ]
    },
    {
      "cell_type": "code",
      "metadata": {
        "id": "DaZUg_ms4lQ5"
      },
      "source": [
        "my_range = np.arange(10)  # integer range from 0 to 9\n",
        "my_zeros = np.zeros(99)  # array containing 99 zeros\n",
        "my_ones = np.ones_like(my_range)  # array containing ones, of the same size as `my_range`\n",
        "my_equidist = np.linspace(-1, 1, 10)  # 10 equidistant points from -1 to 1 (including -1 and 1)"
      ],
      "execution_count": null,
      "outputs": []
    },
    {
      "cell_type": "markdown",
      "metadata": {
        "id": "PAAyp2JA4lQ5"
      },
      "source": [
        "The items inside are accessed with brackets: `array[index]`. For nested arrays: `array[row, col]` or `array[row][col]`.\n",
        "\n",
        "With `:` we access index ranges: \n",
        "\n",
        "| index | accessed range |\n",
        "|-|-|\n",
        "| `start:end` | from `start` to _excluding_ `end` |\n",
        "| `start:` | from `start` to the end of the range |\n",
        "| `:end` | from the beginning of the range to _excluding_ `end` |\n",
        "| `:` | the full range |"
      ]
    },
    {
      "cell_type": "code",
      "metadata": {
        "id": "D86SFt7s4lQ6",
        "colab": {
          "base_uri": "https://localhost:8080/"
        },
        "outputId": "cac958dc-5431-4396-bb1e-07674015dbc1"
      },
      "source": [
        "print(v[1:])  # all except the first entry\n",
        "print(v[1:2]) # from entry 1 to 1 (hence just one value)\n",
        "print(v[:])   # all values\n",
        "\n",
        "print(A[:, 1])  # the second column \n",
        "print(A[0, :])  # the first row\n",
        "print(A[1:, 1:])  # the lower right 2x2 submatrix"
      ],
      "execution_count": null,
      "outputs": [
        {
          "output_type": "stream",
          "text": [
            "[0.2 1. ]\n",
            "[0.2]\n",
            "[1.  0.2 1. ]\n",
            "[2 4 6]\n",
            "[1 2 1]\n",
            "[[4 3]\n",
            " [6 5]]\n"
          ],
          "name": "stdout"
        }
      ]
    },
    {
      "cell_type": "markdown",
      "metadata": {
        "id": "zszmEO7Y4lQ7"
      },
      "source": [
        "# Pandas <a class=\"anchor\" id=\"pandas\"></a>\n",
        "\n",
        "`pandas` is a Python module we can use for handling datasets and tables. \n",
        "It is more sophisticated than using NumPy, which also allows to read and write data. \n",
        "Choose which one you want to use depending on your application.\n",
        "\n",
        "### The Pandas fashioned CSV \n",
        "\n",
        "The `.csv` file has a header with no leading `#` and `,` as delimiters:\n",
        "\n",
        "    x,f(x)\n",
        "    0.0,1.0\n",
        "    1.0,0.5\n",
        "    2.0,0.33\n",
        "    3.0,0.25\n",
        "    4.0,0.2\n",
        "\n",
        "This is the default\\* layout if we store and read data with Pandas.\n",
        "\n",
        "\\* almost default: By default the columns are numbered if we store data. But this is not important."
      ]
    },
    {
      "cell_type": "markdown",
      "metadata": {
        "id": "XppOQfGE4lQ7"
      },
      "source": [
        "## Creating a `pandas.DataFrame`\n",
        "\n",
        "A dataframe is a kind of a table with named columns. We can create it in multiple ways:"
      ]
    },
    {
      "cell_type": "code",
      "metadata": {
        "id": "wfu3y7Xi4lQ7",
        "colab": {
          "base_uri": "https://localhost:8080/"
        },
        "outputId": "859de699-5668-4539-dd7d-df022420bb22"
      },
      "source": [
        "# from a dictionary\n",
        "df = pandas.DataFrame({'x': np.array([0, 1, 2, 3, 4]),\n",
        "                       'f(x)': np.array([1, 0.5, 0.33, 0.25, 0.2])})\n",
        "\n",
        "# from a numpy array\n",
        "X = np.array([[0.0, 1.0], [1.0, 0.5], [2.0, 0.33], [3.0,0.25], [4.0, 0.2]])\n",
        "df = pandas.DataFrame(X, columns=['x', 'f(x)'])\n",
        "\n",
        "df['f(x)']"
      ],
      "execution_count": null,
      "outputs": [
        {
          "output_type": "execute_result",
          "data": {
            "text/plain": [
              "0    1.00\n",
              "1    0.50\n",
              "2    0.33\n",
              "3    0.25\n",
              "4    0.20\n",
              "Name: f(x), dtype: float64"
            ]
          },
          "metadata": {
            "tags": []
          },
          "execution_count": 12
        }
      ]
    },
    {
      "cell_type": "markdown",
      "metadata": {
        "id": "DgcPisd-4lQ7"
      },
      "source": [
        "We can obtain the column names from the dataframe:"
      ]
    },
    {
      "cell_type": "code",
      "metadata": {
        "id": "6Bz2ZaEH4lQ8",
        "colab": {
          "base_uri": "https://localhost:8080/"
        },
        "outputId": "d21edede-1774-49ce-c725-a1b0f3941166"
      },
      "source": [
        "print(df.columns)\n",
        "print(df.columns[0])\n",
        "print(df.columns[1])"
      ],
      "execution_count": null,
      "outputs": [
        {
          "output_type": "stream",
          "text": [
            "Index(['x', 'f(x)'], dtype='object')\n",
            "x\n",
            "f(x)\n"
          ],
          "name": "stdout"
        }
      ]
    },
    {
      "cell_type": "markdown",
      "metadata": {
        "id": "NHo1zRw34lQ8"
      },
      "source": [
        "And access single values of the columns:"
      ]
    },
    {
      "cell_type": "code",
      "metadata": {
        "id": "hKFienXF4lQ8",
        "colab": {
          "base_uri": "https://localhost:8080/"
        },
        "outputId": "905435fa-73ac-495b-ef19-e2d878b722ef"
      },
      "source": [
        "print(df.at[2, 'f(x)'])  # Via column name\n",
        "print(df.iat[2, 1])      # Via column number"
      ],
      "execution_count": null,
      "outputs": [
        {
          "output_type": "stream",
          "text": [
            "0.33\n",
            "0.33\n"
          ],
          "name": "stdout"
        }
      ]
    },
    {
      "cell_type": "markdown",
      "metadata": {
        "id": "iLAFvcEy4lQ9"
      },
      "source": [
        "# Plotting <a class=\"anchor\" id=\"plotting\"></a>\n",
        "\n",
        "A decent plot can give you a lot of insights on your data!\n",
        "\n",
        "We use the `matplotlib.pyplot` module for plotting (and maybe some others later on). The basic plot command is:\n",
        "\n",
        "    plt.plot(x, y)\n",
        "    \n",
        "you can, however, also specify the style of the plotted line/points and add a label:\n",
        "\n",
        "    plt.plot(x, y, \"style\", label=\"My label\")"
      ]
    },
    {
      "cell_type": "code",
      "metadata": {
        "id": "0o0dP0KD4lQ9"
      },
      "source": [
        "import matplotlib.pyplot as plt  # as plt because writing plt.plot is better than matplotlib.pyplot.plot\n",
        "\n",
        "# in Jupyter notebooks we have to add the following (not needed in .py files!)\n",
        "%matplotlib inline"
      ],
      "execution_count": null,
      "outputs": []
    },
    {
      "cell_type": "markdown",
      "metadata": {
        "id": "vXtMPvgR4lQ9"
      },
      "source": [
        "A basic usage:"
      ]
    },
    {
      "cell_type": "code",
      "metadata": {
        "scrolled": true,
        "id": "oJNCs_FJ4lQ9",
        "colab": {
          "base_uri": "https://localhost:8080/",
          "height": 283
        },
        "outputId": "9ca29649-fd0a-4acb-ffd9-942b6b6d821c"
      },
      "source": [
        "x = np.linspace(-1, 1, 100)\n",
        "y = x**2\n",
        "\n",
        "plt.plot(x, y)"
      ],
      "execution_count": null,
      "outputs": [
        {
          "output_type": "execute_result",
          "data": {
            "text/plain": [
              "[<matplotlib.lines.Line2D at 0x7f6fba73ed10>]"
            ]
          },
          "metadata": {
            "tags": []
          },
          "execution_count": 16
        },
        {
          "output_type": "display_data",
          "data": {
            "image/png": "[encoded data removed]",
            "text/plain": [
              "<Figure size 432x288 with 1 Axes>"
            ]
          },
          "metadata": {
            "tags": [],
            "needs_background": "light"
          }
        }
      ]
    },
    {
      "cell_type": "markdown",
      "metadata": {
        "id": "Xjlg7l2a4lQ-"
      },
      "source": [
        "What you should rather do:"
      ]
    },
    {
      "cell_type": "code",
      "metadata": {
        "id": "GC31OWGD4lQ-",
        "colab": {
          "base_uri": "https://localhost:8080/",
          "height": 313
        },
        "outputId": "72a08234-0cc6-4c31-c277-015f8a9ed429"
      },
      "source": [
        "x = np.linspace(-1, 1, 200)\n",
        "y = x**2\n",
        "\n",
        "x_samples = np.linspace(-1, 1, 8)\n",
        "y_samples = x_samples**2\n",
        "\n",
        "# Create new plot\n",
        "plt.figure()\n",
        "\n",
        "# Plot the data\n",
        "plt.plot(x, y, \"b\", label=\"Function $f(x) = x^2$\")  # `$` activates math mode!\n",
        "plt.plot(x_samples, y_samples, \"ro\", label=\"Function samples\")\n",
        "\n",
        "# Plot the legend at the 'best' location\n",
        "plt.legend(loc=\"best\")\n",
        "\n",
        "# Specify axis labels and title\n",
        "plt.xlabel(\"x\")\n",
        "plt.ylabel(\"f(x)\")\n",
        "plt.title(\"My super complicated function\")"
      ],
      "execution_count": null,
      "outputs": [
        {
          "output_type": "execute_result",
          "data": {
            "text/plain": [
              "Text(0.5, 1.0, 'My super complicated function')"
            ]
          },
          "metadata": {
            "tags": []
          },
          "execution_count": 17
        },
        {
          "output_type": "display_data",
          "data": {
            "image/png": "[encoded data removed]",
            "text/plain": [
              "<Figure size 432x288 with 1 Axes>"
            ]
          },
          "metadata": {
            "tags": [],
            "needs_background": "light"
          }
        }
      ]
    },
    {
      "cell_type": "code",
      "metadata": {
        "id": "bu55JUr37rLB"
      },
      "source": [
        ""
      ],
      "execution_count": null,
      "outputs": []
    }
  ]
}