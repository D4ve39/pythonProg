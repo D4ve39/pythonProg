{
  "nbformat": 4,
  "nbformat_minor": 0,
  "metadata": {
    "colab": {
      "name": "Copy of DeepDive - CV",
      "provenance": [],
      "collapsed_sections": [
        "UDqgqTcR01hy"
      ],
      "include_colab_link": true
    },
    "kernelspec": {
      "name": "python3",
      "display_name": "Python 3"
    },
    "language_info": {
      "name": "python"
    }
  },
  "cells": [
    {
      "cell_type": "markdown",
      "metadata": {
        "id": "view-in-github",
        "colab_type": "text"
      },
      "source": [
        "<a href=\"https://colab.research.google.com/github/D4ve39/pythonProg/blob/master/MachineLearningDeepDive_CV.ipynb\" target=\"_parent\"><img src=\"https://colab.research.google.com/assets/colab-badge.svg\" alt=\"Open In Colab\"/></a>"
      ]
    },
    {
      "cell_type": "code",
      "metadata": {
        "id": "ygatcrFkkEE8"
      },
      "source": [
        "from sklearn.svm import SVC\n",
        "from sklearn.tree import DecisionTreeClassifier\n",
        "from sklearn.ensemble import RandomForestClassifier\n",
        "from sklearn.neighbors import KNeighborsClassifier\n",
        "from sklearn import datasets\n",
        "from sklearn.model_selection import train_test_split, cross_val_score, StratifiedKFold, KFold\n",
        "import numpy as np\n",
        "import pandas as pd\n",
        "import matplotlib.pyplot as plt"
      ],
      "execution_count": null,
      "outputs": []
    },
    {
      "cell_type": "markdown",
      "metadata": {
        "id": "Kd2NZjI4wvO7"
      },
      "source": [
        "# Model Selection & Hyperparameters\n",
        "There is not one model that suits all situations and solves all problems. The best model is problem dependent and usually one tries to select the best from a selection of possibly suiting models. Furthermore, most models have so called hyperparameters (e.g. how many features to use, which kernel to use, how deep a tree is, ...).\n",
        "\n",
        "It is thus important to have a method that can:\n",
        "1. Select the best model with the best hyperparameters for a given problem\n",
        "2. Evaluate how this model will behave on future data"
      ]
    },
    {
      "cell_type": "markdown",
      "metadata": {
        "id": "bWZZ3zkVx_Qw"
      },
      "source": [
        "### First Step: get the data / split in train and test sets\n",
        " "
      ]
    },
    {
      "cell_type": "code",
      "metadata": {
        "colab": {
          "base_uri": "https://localhost:8080/"
        },
        "id": "KSfNyn3OyGXf",
        "outputId": "b339e038-fadf-471e-9f22-ae40635448fb"
      },
      "source": [
        "digits = datasets.fetch_openml('mnist_784', version=1)\n",
        "\n",
        "data = digits.data[:5000]\n",
        "labels = digits.target[:5000]\n",
        "\n",
        "# Split training and test data\n",
        "training_data, test_data, training_labels, test_labels = train_test_split(data, labels, test_size=0.3, random_state=42)\n",
        "\n",
        "data.shape, training_data.shape, test_data.shape"
      ],
      "execution_count": null,
      "outputs": [
        {
          "output_type": "execute_result",
          "data": {
            "text/plain": [
              "((5000, 784), (3500, 784), (1500, 784))"
            ]
          },
          "metadata": {
            "tags": []
          },
          "execution_count": 7
        }
      ]
    },
    {
      "cell_type": "markdown",
      "metadata": {
        "id": "OsRcGKl3yLsm"
      },
      "source": [
        "### Second Step: Get an overview of the data\n",
        "The easiest way is to plot a few samples as in this case the dataset is a collection of images:\n",
        "- handwritten digits 0-9\n",
        "- labels are the digits "
      ]
    },
    {
      "cell_type": "code",
      "metadata": {
        "colab": {
          "base_uri": "https://localhost:8080/",
          "height": 444
        },
        "id": "xixaBohWxnvf",
        "outputId": "55d85c81-2fb4-4bb6-c625-517d4d481c89"
      },
      "source": [
        "n_images = 10\n",
        "indices = np.random.randint(0, training_data.shape[0]-1,n_images)\n",
        "fig, ax =plt.subplots(nrows=2,ncols=5,figsize=(20,7))\n",
        "for i in range(n_images):\n",
        "    ax[i//5,i%5].imshow(training_data[i].reshape(28, 28), cmap='gray')\n",
        "    ax[i//5,i%5].set_title(\"Label to predict: {}\".format(training_labels[i]))\n",
        "plt.show()"
      ],
      "execution_count": null,
      "outputs": [
        {
          "output_type": "display_data",
          "data": {
            "image/png": "[encoded data removed]",
            "text/plain": [
              "<Figure size 1440x504 with 10 Axes>"
            ]
          },
          "metadata": {
            "tags": [],
            "needs_background": "light"
          }
        }
      ]
    },
    {
      "cell_type": "markdown",
      "metadata": {
        "id": "860wWsSIy0vP"
      },
      "source": [
        "### Third Step: Fit the model in a cross validation loop\n",
        "\n",
        "Scikit-learn makes the use of cross validation very simple in many standard cases. It fits perfectly into the general pipeline: https://scikit-learn.org/stable/modules/generated/sklearn.model_selection.cross_val_score.html \n",
        "\n",
        "There are different ways to do cross validation and we will discuss various options in a second. The easiest one is to specify a number (e.g. cv=5) which leads to totally random cross validation. \n"
      ]
    },
    {
      "cell_type": "code",
      "metadata": {
        "colab": {
          "base_uri": "https://localhost:8080/"
        },
        "id": "fjJhpdMTzqE7",
        "outputId": "8453305e-60c4-429b-9315-3ed72daff936"
      },
      "source": [
        "model = DecisionTreeClassifier()\n",
        "scores = cross_val_score(model, training_data, training_labels, cv=5)\n",
        "print(\"Accuracy per run: \",scores,\"Average Accuracy: \", np.mean(scores),\"Standard Deviation: \", np.std(scores))"
      ],
      "execution_count": null,
      "outputs": [
        {
          "output_type": "stream",
          "text": [
            "Accuracy per run:  [0.73142857 0.75714286 0.75857143 0.75285714 0.76571429] Average Accuracy:  0.7531428571428571 Standard Deviation:  0.011619828232950137\n"
          ],
          "name": "stdout"
        }
      ]
    },
    {
      "cell_type": "markdown",
      "metadata": {
        "id": "mF2oZFsUz8Q_"
      },
      "source": [
        "## Proper Cross Validation:\n",
        "Cross-validation and proper train test splitting is probably one of the most important parts in application oriented machine learning! It is often tempting to do it improperly, but can lead to very wrong application of the trained model.\n",
        "\n",
        "One *correct* way of cross validation is:\n",
        "1. Understand the structure of the dataset\n",
        "2. Understand what the target \"generalization\" step of the approach should be\n",
        "3. Check if a fitting method already exists in https://scikit-learn.org/stable/modules/cross_validation.html, if yes use it. If no -> implement yourself (can be a bit advanced) \n"
      ]
    },
    {
      "cell_type": "markdown",
      "metadata": {
        "id": "UDqgqTcR01hy"
      },
      "source": [
        "#### `TODO`: are you cross-validation master? \n",
        "\n",
        "For the following scenarios consider what is the right way to split your data  for cross validation and for the hold out test set. \n",
        "\n",
        "1. You learn a model to classify (detect) heart rythm disorder in a new patient based on ECG signals from different days. \n",
        "![](https://drive.google.com/uc?export=view&id=1BAtx1spZX_OCSfT0qTg8TQZe9R222wve)\n",
        "2. You learn a model to predict the bitcoin price on the next day.\n",
        "![](https://drive.google.com/uc?export=view&id=13SMpn2Ohbw-RCtEmg8d1JeiIXci1ot6B)\n",
        "3. You learn a model for human face classification (e.g. person with beard/ person without beard). \n",
        "![](https://drive.google.com/uc?export=view&id=1Duxe7Nxtlh5YPcMdlGRe3OZRuEHmP9-a)\n",
        "4. Data with severe group imbalance (we will look at this problem from a coding perspective)."
      ]
    },
    {
      "cell_type": "markdown",
      "metadata": {
        "id": "99K9hNRv3C5j"
      },
      "source": [
        "#### Example: Cross validation with severe group imbalance\n",
        "We create a setting where most of the data are ones and only very few image are zeros. Often classification settings are imbalanced:\n",
        "- fault detection (machines usually work, they are broken very rarely)\n",
        "- disease detection (most people are healthy, only some have certain disease)\n",
        "- ... "
      ]
    },
    {
      "cell_type": "code",
      "metadata": {
        "colab": {
          "base_uri": "https://localhost:8080/"
        },
        "id": "0-6_iUUP3c7I",
        "outputId": "02470272-771c-4067-d4d3-648af18b63ff"
      },
      "source": [
        "# Prepare our imbalanced data setting:\n",
        "imbalanced_label=np.concatenate([training_labels[training_labels==\"0\"][:6],training_labels[training_labels==\"1\"]])\n",
        "imbalanced_data=np.concatenate([training_data[training_labels==\"0\"][:6],training_data[training_labels==\"1\"]])\n",
        "print(np.unique(imbalanced_label,return_counts=True))"
      ],
      "execution_count": null,
      "outputs": [
        {
          "output_type": "stream",
          "text": [
            "(array(['0', '1'], dtype=object), array([  6, 383]))\n"
          ],
          "name": "stdout"
        }
      ]
    },
    {
      "cell_type": "markdown",
      "metadata": {
        "id": "wnuBjtqm3zLm"
      },
      "source": [
        "Analyze what happens if we do standard K-Fold cross validation"
      ]
    },
    {
      "cell_type": "code",
      "metadata": {
        "colab": {
          "base_uri": "https://localhost:8080/"
        },
        "id": "ZXpE24y93qlQ",
        "outputId": "4734b6bf-eeaf-4ce0-e9d1-6b8a42f8937b"
      },
      "source": [
        "kf = KFold(n_splits=5)\n",
        "model = DecisionTreeClassifier()\n",
        "scores = cross_val_score(model, imbalanced_data, imbalanced_label, cv=kf,scoring=\"balanced_accuracy\")\n",
        "print(\"Accuracy per run: \",scores,\"Average Accuracy: \", np.mean(scores),\"Standard Deviation: \", np.std(scores))"
      ],
      "execution_count": null,
      "outputs": [
        {
          "output_type": "stream",
          "text": [
            "Accuracy per run:  [0.5        1.         1.         1.         0.98701299] Average Accuracy:  0.8974025974025974 Standard Deviation:  0.1987649503346389\n"
          ],
          "name": "stdout"
        },
        {
          "output_type": "stream",
          "text": [
            "/usr/local/lib/python3.7/dist-packages/sklearn/metrics/_classification.py:1859: UserWarning: y_pred contains classes not in y_true\n",
            "  warnings.warn('y_pred contains classes not in y_true')\n"
          ],
          "name": "stderr"
        }
      ]
    },
    {
      "cell_type": "markdown",
      "metadata": {
        "id": "X0ql67vu41hO"
      },
      "source": [
        "Analyze what happens if we do Stratified K-Fold cross validation (having approximately the same proportion of data in training and validation data)"
      ]
    },
    {
      "cell_type": "code",
      "metadata": {
        "colab": {
          "base_uri": "https://localhost:8080/"
        },
        "id": "PDUPT_Qp0xTC",
        "outputId": "fe2e6cab-2161-4032-a788-f99713a5d85b"
      },
      "source": [
        "skf = StratifiedKFold(n_splits=5)\n",
        "model = DecisionTreeClassifier()\n",
        "scores = cross_val_score(model, imbalanced_data, imbalanced_label, cv=skf,scoring=\"balanced_accuracy\")\n",
        "print(\"Accuracy per run: \",scores,\"Average Accuracy: \", np.mean(scores),\"Standard Deviation: \", np.std(scores))\n"
      ],
      "execution_count": null,
      "outputs": [
        {
          "output_type": "stream",
          "text": [
            "Accuracy per run:  [0.75       0.5        0.5        1.         0.99342105] Average Accuracy:  0.7486842105263157 Standard Deviation:  0.22214641674110822\n"
          ],
          "name": "stdout"
        }
      ]
    },
    {
      "cell_type": "markdown",
      "metadata": {
        "id": "Bi0v7Yb65EtX"
      },
      "source": [
        "#### `TODO`: Discuss the differences, which approach is better? "
      ]
    },
    {
      "cell_type": "markdown",
      "metadata": {
        "id": "yo6ntXOt5SO_"
      },
      "source": [
        "### Model selection: The best model for digit classification\n",
        "\n",
        "We want to analyze two models, first random forests and second support vector machines. Both have quite a few hyperparameters and we focus on one for each model (one that has a large influence usually).\n",
        "\n",
        "We want to find, the best model with the best hyperparameter configuration:"
      ]
    },
    {
      "cell_type": "code",
      "metadata": {
        "id": "m3hZ3sgb0riz"
      },
      "source": [
        "# We want to check this three values for the number of estimators (numbers of trees in the forest)\n",
        "n_estimators = [5, 10, 100]\n",
        "# We want to collect the scores:\n",
        "scores_rf = []\n",
        "for i in n_estimators:\n",
        "  rf = RandomForestClassifier(n_estimators=i)\n",
        "  scores_rf.append(cross_val_score(rf,training_data,training_labels,cv=5))\n"
      ],
      "execution_count": null,
      "outputs": []
    },
    {
      "cell_type": "code",
      "metadata": {
        "colab": {
          "base_uri": "https://localhost:8080/"
        },
        "id": "-MOntj5N6LDR",
        "outputId": "d7389c62-d1cf-4b83-fce1-c491e01610cc"
      },
      "source": [
        "scores_rf=np.array(scores_rf)\n",
        "# The average performance is usually the most imprtant decision criterium in model selection\n",
        "print(\"Mean performance of the three hyperparams: \", np.mean(scores_rf,axis=1))\n",
        "# Sometimes the variance (or standard deviation) is relevant too, to see if the splits have very different dificulity.\n",
        "print(\"Standard deviation of the three hyperparams: \", np.std(scores_rf,axis=1))"
      ],
      "execution_count": null,
      "outputs": [
        {
          "output_type": "stream",
          "text": [
            "Mean performance of the three hyperparams:  [0.82085714 0.87228571 0.932     ]\n",
            "Standard deviation of the three hyperparams:  [0.00945883 0.00714857 0.0024908 ]\n"
          ],
          "name": "stdout"
        }
      ]
    },
    {
      "cell_type": "markdown",
      "metadata": {
        "id": "k45JopVH7DhI"
      },
      "source": [
        "#### `TODO`: Implement the same search over different kernels for a SVM classifier"
      ]
    },
    {
      "cell_type": "code",
      "metadata": {
        "id": "giZ5iGXy7o0K"
      },
      "source": [
        "# Insert your code here! Do the same for SVM as we did for random forest!\n",
        "kernels = ['linear', 'sigmoid', 'rbf']\n",
        "scores_svm = []"
      ],
      "execution_count": null,
      "outputs": []
    },
    {
      "cell_type": "markdown",
      "metadata": {
        "id": "fZI_gw0Y7yDw"
      },
      "source": [
        "#### Analyze the results / Compare the methods\n",
        "Sometimes a plot can help to get an additional perspective, see the size of the difference between models etc. Often it is also misleading, one should always try to understand values and plots. "
      ]
    },
    {
      "cell_type": "code",
      "metadata": {
        "colab": {
          "base_uri": "https://localhost:8080/",
          "height": 283
        },
        "id": "w2JKRfZl8Jho",
        "outputId": "68103053-3315-4b18-f34a-c1c5419a5963"
      },
      "source": [
        "n_estimators = [str(num) for num in n_estimators]\n",
        "plt.bar(n_estimators, np.mean(scores_rf,axis=1), label='random forest')\n",
        "plt.legend()"
      ],
      "execution_count": null,
      "outputs": [
        {
          "output_type": "execute_result",
          "data": {
            "text/plain": [
              "<matplotlib.legend.Legend at 0x7fed4aebc8d0>"
            ]
          },
          "metadata": {
            "tags": []
          },
          "execution_count": 39
        },
        {
          "output_type": "display_data",
          "data": {
            "image/png": "[encoded data removed]",
            "text/plain": [
              "<Figure size 432x288 with 1 Axes>"
            ]
          },
          "metadata": {
            "tags": [],
            "needs_background": "light"
          }
        }
      ]
    },
    {
      "cell_type": "code",
      "metadata": {
        "id": "KQiZAx5W8BUA"
      },
      "source": [
        "plt.bar(kernels, np.mean(scores_svm,axis=1), label='svm')\n",
        "plt.legend()"
      ],
      "execution_count": null,
      "outputs": []
    },
    {
      "cell_type": "markdown",
      "metadata": {
        "id": "Dzr6dvbT8eOP"
      },
      "source": [
        "### Evaluate on the test set:\n",
        "- Which model would you select, which hp and why ? \n",
        "- Once you are crossing this boarder there is no statistically clean way back (even though practitioners do it often)"
      ]
    },
    {
      "cell_type": "code",
      "metadata": {
        "id": "8AyRyaB98u91"
      },
      "source": [
        "# Retrain on the whole training set with the parameter that you chose"
      ],
      "execution_count": null,
      "outputs": []
    },
    {
      "cell_type": "code",
      "metadata": {
        "id": "QRHUzIDD8muo"
      },
      "source": [
        "# Check the performance by testing on the test set"
      ],
      "execution_count": null,
      "outputs": []
    }
  ]
}