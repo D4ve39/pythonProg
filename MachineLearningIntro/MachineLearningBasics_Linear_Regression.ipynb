{
  "nbformat": 4,
  "nbformat_minor": 0,
  "metadata": {
    "colab": {
      "name": "Copie de Basics - Linear Regression",
      "provenance": [],
      "collapsed_sections": [],
      "include_colab_link": true
    },
    "kernelspec": {
      "name": "python3",
      "display_name": "Python 3"
    },
    "language_info": {
      "name": "python"
    }
  },
  "cells": [
    {
      "cell_type": "markdown",
      "metadata": {
        "id": "view-in-github",
        "colab_type": "text"
      },
      "source": [
        "<a href=\"https://colab.research.google.com/github/D4ve39/pythonProg/blob/master/MachineLearningBasics_Linear_Regression.ipynb\" target=\"_parent\"><img src=\"https://colab.research.google.com/assets/colab-badge.svg\" alt=\"Open In Colab\"/></a>"
      ]
    },
    {
      "cell_type": "markdown",
      "metadata": {
        "id": "QlNKLMy_OOSF"
      },
      "source": [
        "# Imports"
      ]
    },
    {
      "cell_type": "code",
      "metadata": {
        "ExecuteTime": {
          "end_time": "2019-05-07T21:31:53.835174Z",
          "start_time": "2019-05-07T21:31:53.163276Z"
        },
        "id": "bJBrUzXKOOSN"
      },
      "source": [
        "from sklearn.linear_model import LinearRegression\n",
        "from sklearn.model_selection import train_test_split\n",
        "\n",
        "import numpy as np\n",
        "import pandas as pd\n",
        "import matplotlib.pyplot as plt"
      ],
      "execution_count": null,
      "outputs": []
    },
    {
      "cell_type": "markdown",
      "metadata": {
        "id": "jZ-QlAvkOOSO"
      },
      "source": [
        "#**The Dataset**\n",
        "Each entry in the dataset consists in a measure of a person's height and weight."
      ]
    },
    {
      "cell_type": "markdown",
      "metadata": {
        "id": "U1TUCY9yOOSO"
      },
      "source": [
        "# Importing Data using Pandas \n",
        "Pandas is a python library that provides tools for data manipulation, it's built around the concept of dataframe. You can imagine a dataframe as table indexed by columns and rows. For this tutorial, we do not need many of Pandas functionalities. But if you are interested, you can read this quick introduction to Pandas: https://pandas.pydata.org/pandas-docs/stable/getting_started/10min.html"
      ]
    },
    {
      "cell_type": "code",
      "metadata": {
        "ExecuteTime": {
          "end_time": "2019-05-07T21:31:54.421598Z",
          "start_time": "2019-05-07T21:31:54.387176Z"
        },
        "id": "YtlbNZ05OOSP"
      },
      "source": [
        "url= \"https://gitlab.com/analytics-club/ml-workshop/ml-workshop/-/raw/master/data/data_weight.csv?inline=false\"\n",
        "\n",
        "# Let's load the data from the csv file to a Pandas dataframe!\n",
        "data = pd.read_csv(url)\n",
        "\n",
        "# Now let's have look at the first rows of our dataset.\n",
        "data.head()"
      ],
      "execution_count": null,
      "outputs": []
    },
    {
      "cell_type": "code",
      "metadata": {
        "ExecuteTime": {
          "end_time": "2019-05-07T21:31:54.846901Z",
          "start_time": "2019-05-07T21:31:54.837840Z"
        },
        "id": "99OEeVruOOSP"
      },
      "source": [
        "# Now we select the labels (what we want to predict), and the features of our problem.\n",
        "labels = data['Weight']\n",
        "features = data['Height'].values.reshape(-1,1)\n",
        "\n",
        "train_features, test_features, train_labels, test_labels = train_test_split(features, labels, test_size=0.3, random_state=42)"
      ],
      "execution_count": null,
      "outputs": []
    },
    {
      "cell_type": "markdown",
      "metadata": {
        "id": "_Br2zclIOOSP"
      },
      "source": [
        "# Visualise the data"
      ]
    },
    {
      "cell_type": "code",
      "metadata": {
        "ExecuteTime": {
          "end_time": "2019-05-07T21:31:55.901029Z",
          "start_time": "2019-05-07T21:31:55.759312Z"
        },
        "id": "4LBAUvFLOOSQ"
      },
      "source": [
        "plt.plot(train_features, train_labels, \"bo\")\n",
        "plt.xlabel(\"Height\")\n",
        "plt.ylabel(\"Weight\")"
      ],
      "execution_count": null,
      "outputs": []
    },
    {
      "cell_type": "markdown",
      "metadata": {
        "ExecuteTime": {
          "end_time": "2019-05-04T21:27:41.768939Z",
          "start_time": "2019-05-04T21:27:41.766539Z"
        },
        "id": "Zbe5wF5AOOSQ"
      },
      "source": [
        "# **Linear Regression**\n"
      ]
    },
    {
      "cell_type": "markdown",
      "metadata": {
        "id": "fCeuixRPOOSQ"
      },
      "source": [
        "# `TODO` Why?\n",
        "Linear regression is a well studied problem in machine learning, with strong **theoretical guarantees**, intuitive interpretation and it is easy to use. It belongs to the **supervised learning** category. In fact, as we will see, we need training samples as well as **labels**. In this notebook we will use it too predict people weight based on their height. Try to check the linear regression documentation at https://scikit-learn.org/stable/modules/generated/sklearn.linear_model.LinearRegression.html and complete the following cell!"
      ]
    },
    {
      "cell_type": "code",
      "metadata": {
        "ExecuteTime": {
          "end_time": "2019-05-07T21:36:08.033815Z",
          "start_time": "2019-05-07T21:36:08.030912Z"
        },
        "id": "ehm8GrqHOOSR"
      },
      "source": [
        "# Insert here your code! You should create and train your first linear regression model!\n",
        "regression_model = ..."
      ],
      "execution_count": null,
      "outputs": []
    },
    {
      "cell_type": "markdown",
      "metadata": {
        "id": "NEpKGv5XOOSR"
      },
      "source": [
        "# `TODO` Predicting the the height\n",
        "Now let's try to use our model for prediction! Given the test dataset, try to predict the respective height and check how you model performs on unseen data points!"
      ]
    },
    {
      "cell_type": "code",
      "metadata": {
        "ExecuteTime": {
          "end_time": "2019-05-07T21:38:28.414713Z",
          "start_time": "2019-05-07T21:38:28.411887Z"
        },
        "id": "N4eRnec4OOSS"
      },
      "source": [
        "# Insert your code here! Try to predict the height for the test data points!\n",
        "predictions = ..."
      ],
      "execution_count": null,
      "outputs": []
    },
    {
      "cell_type": "code",
      "metadata": {
        "ExecuteTime": {
          "end_time": "2019-05-07T21:32:01.657079Z",
          "start_time": "2019-05-07T21:32:01.506274Z"
        },
        "id": "Qt3If7HLOOSS"
      },
      "source": [
        "# Plot the data again!\n",
        "h = np.linspace(140, 210, num=300).reshape(-1, 1)\n",
        "\n",
        "plt.plot(train_features, train_labels, \"bo\", label=\"Train datapoints\")\n",
        "plt.xlabel(\"Height\")\n",
        "plt.ylabel(\"Weight\")\n",
        "\n",
        "plt.plot(test_features, test_labels, \"ro\", label=\"Test datapoints\")\n",
        "plt.plot(h, regression_model.predict(h), label=\"Linear regression\")\n",
        "\n",
        "plt.legend(loc=\"best\")"
      ],
      "execution_count": null,
      "outputs": []
    },
    {
      "cell_type": "markdown",
      "metadata": {
        "id": "ZNH9E-n2TdRR"
      },
      "source": [
        "## `TODO` Outliers \n",
        "\n",
        "Suppose we have a data point that is very far off. (For example, due to a measurement error.) "
      ]
    },
    {
      "cell_type": "code",
      "metadata": {
        "id": "ZzvRjh0mWu79"
      },
      "source": [
        "# Add outlier to data  \n",
        "data_outlier=data.append(pd.DataFrame( {'Height':[207],'Weight':[41]} ))\n",
        "\n",
        "# Extract the labels (weight) and features (height)\n",
        "labels = data_outlier['Weight']\n",
        "features = data_outlier['Height'].values.reshape(-1,1)\n",
        "\n",
        "# Split data into training and test set\n",
        "train_features, test_features, train_labels, test_labels = train_test_split(features, labels, test_size=0.3, random_state=42)\n",
        "\n",
        "# Plot the new data\n",
        "plt.plot(train_features, train_labels, \"bo\")\n",
        "plt.xlabel(\"Height\")\n",
        "plt.ylabel(\"Weight\")"
      ],
      "execution_count": null,
      "outputs": []
    },
    {
      "cell_type": "markdown",
      "metadata": {
        "id": "tj2jbmdGXr1U"
      },
      "source": [
        "Where do you expect the regression line to lie?"
      ]
    },
    {
      "cell_type": "code",
      "metadata": {
        "id": "PRxVjHzGXv7y"
      },
      "source": [
        "# Define a linear regression model\n",
        "regression_model_outlier = LinearRegression()\n",
        "\n",
        "# Fit the model\n",
        "regression_model_outlier.fit(train_features,train_labels)\n",
        "\n",
        "# Predict on the test set\n",
        "predictions_outlier = regression_model_outlier.predict(test_features)"
      ],
      "execution_count": null,
      "outputs": []
    },
    {
      "cell_type": "code",
      "metadata": {
        "ExecuteTime": {
          "end_time": "2019-05-07T21:32:01.657079Z",
          "start_time": "2019-05-07T21:32:01.506274Z"
        },
        "id": "PqRotkHXY02Z"
      },
      "source": [
        "# Plot the data again!\n",
        "h = np.linspace(140, 210, num=300).reshape(-1, 1)\n",
        "\n",
        "plt.plot(train_features, train_labels, \"bo\", label=\"Train datapoints\")\n",
        "plt.xlabel(\"Height\")\n",
        "plt.ylabel(\"Weight\")\n",
        "\n",
        "plt.plot(test_features, test_labels, \"ro\", label=\"Test datapoints\")\n",
        "plt.plot(h, regression_model_outlier.predict(h), label=\"Linear regression\")\n",
        "\n",
        "plt.legend(loc=\"best\")"
      ],
      "execution_count": null,
      "outputs": []
    },
    {
      "cell_type": "markdown",
      "metadata": {
        "id": "U0K05sdMOP6T"
      },
      "source": [
        "Linear regression is sensitive to outliers. Even a single sample that is very far off can have a huge influence on the prediction. \n",
        "There are two main extension to linear regression that make linear regression more robust (against outliers): **Lasso regression** and **Ridge regression**.\n",
        "\n",
        "– Implement Lasso regression and try out different values of the regularisation parameter \"alpha\".\n",
        "\n",
        "– What do you observe? \n",
        "\n",
        "– What happens if alpha is very large or if alpha is very small (zero)?"
      ]
    },
    {
      "cell_type": "code",
      "metadata": {
        "id": "b-xl-Q69Z92Z"
      },
      "source": [
        "# Define a Lasso regression model\n",
        "lasso = ...\n",
        "\n",
        "# Fit the model\n",
        "...\n",
        "\n",
        "# Predict on the test set\n",
        "predictions_lasso = ..."
      ],
      "execution_count": null,
      "outputs": []
    },
    {
      "cell_type": "code",
      "metadata": {
        "ExecuteTime": {
          "end_time": "2019-05-07T21:32:01.657079Z",
          "start_time": "2019-05-07T21:32:01.506274Z"
        },
        "id": "1qc_z__raZhf"
      },
      "source": [
        "# Plot the data again\n",
        "h = np.linspace(140, 210, num=300).reshape(-1, 1)\n",
        "\n",
        "plt.plot(train_features, train_labels, \"bo\", label=\"Train datapoints\")\n",
        "plt.xlabel(\"Height\")\n",
        "plt.ylabel(\"Weight\")\n",
        "\n",
        "plt.plot(test_features, test_labels, \"ro\", label=\"Test datapoints\")\n",
        "plt.plot(h, lasso.predict(h), label=\"Linear regression\")\n",
        "\n",
        "plt.legend(loc=\"best\")"
      ],
      "execution_count": null,
      "outputs": []
    },
    {
      "cell_type": "markdown",
      "metadata": {
        "id": "AEirRE0cMLnN"
      },
      "source": [
        "##Solution"
      ]
    },
    {
      "cell_type": "code",
      "metadata": {
        "id": "wopfpiIQNEaV"
      },
      "source": [
        "# Create and train the machine learning model\n",
        "regression_model = LinearRegression()\n",
        "regression_model.fit(train_features,train_labels)\n",
        "\n",
        "# Predicting the weight\n",
        "predictions = regression_model.predict(test_features)"
      ],
      "execution_count": null,
      "outputs": []
    },
    {
      "cell_type": "code",
      "metadata": {
        "id": "z9K0hprA_GWf"
      },
      "source": [
        "# Import Lasso\n",
        "from sklearn.linear_model import Lasso\n",
        "# Define the model\n",
        "lasso = Lasso(alpha=10)\n",
        "# Fit the model\n",
        "lasso.fit(train_features,train_labels)\n",
        "# Predict the weight\n",
        "predictions_lasso = lasso.predict(test_features)"
      ],
      "execution_count": null,
      "outputs": []
    }
  ]
}