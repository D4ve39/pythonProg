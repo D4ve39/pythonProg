{
  "nbformat": 4,
  "nbformat_minor": 0,
  "metadata": {
    "colab": {
      "name": "Copie de Basics - Logistic Regression",
      "provenance": [],
      "collapsed_sections": [],
      "include_colab_link": true
    },
    "kernelspec": {
      "name": "python3",
      "display_name": "Python 3"
    },
    "language_info": {
      "name": "python"
    }
  },
  "cells": [
    {
      "cell_type": "markdown",
      "metadata": {
        "id": "view-in-github",
        "colab_type": "text"
      },
      "source": [
        "<a href=\"https://colab.research.google.com/github/D4ve39/pythonProg/blob/master/MachineLearningBasics_Logistic_Regression.ipynb\" target=\"_parent\"><img src=\"https://colab.research.google.com/assets/colab-badge.svg\" alt=\"Open In Colab\"/></a>"
      ]
    },
    {
      "cell_type": "markdown",
      "metadata": {
        "id": "6ZV2KAHeQa9w"
      },
      "source": [
        "# Import"
      ]
    },
    {
      "cell_type": "code",
      "metadata": {
        "id": "6cT6ht8Z0jTp"
      },
      "source": [
        "import numpy as np\n",
        "import matplotlib.pyplot as plt\n",
        "%matplotlib inline\n",
        "from sklearn.linear_model import LogisticRegression\n",
        "from sklearn.model_selection import train_test_split\n",
        "from sklearn.metrics import accuracy_score"
      ],
      "execution_count": 1,
      "outputs": []
    },
    {
      "cell_type": "markdown",
      "metadata": {
        "id": "ujkrAbSBQK6n"
      },
      "source": [
        "# Dataset: Passing of exams\n",
        "\n",
        "For 30 students we know how long they studied and whether they have passed the exam (1) or not (0). \n",
        "Based on this data, how would we predict if new students, studying a given number of hours, would pass or fail?\n",
        "\n",
        "You have to complete [this](#todo) cell."
      ]
    },
    {
      "cell_type": "markdown",
      "metadata": {
        "id": "7gc70IV3QK6o"
      },
      "source": [
        "## Load the data"
      ]
    },
    {
      "cell_type": "code",
      "metadata": {
        "id": "5KKv4-8yQK6o",
        "colab": {
          "base_uri": "https://localhost:8080/"
        },
        "outputId": "1f76a2ea-5f5d-4387-9f6e-fdd613ca9eca"
      },
      "source": [
        "data = np.genfromtxt(\"https://gitlab.com/analytics-club/ml-workshop/ml-workshop/-/raw/master/data/exam_passes_vs_hours.csv?inline=false\")\n",
        "print(\"Shape of the data:\", data.shape)\n",
        "\n",
        "features = data[:, 0].reshape(-1, 1)\n",
        "labels = data[:, 1]"
      ],
      "execution_count": 2,
      "outputs": [
        {
          "output_type": "stream",
          "text": [
            "Shape of the data: (30, 2)\n"
          ],
          "name": "stdout"
        }
      ]
    },
    {
      "cell_type": "markdown",
      "metadata": {
        "id": "2H6JD1beQK6p"
      },
      "source": [
        "## Split in test and train set"
      ]
    },
    {
      "cell_type": "code",
      "metadata": {
        "id": "1uOLxUe_QK6p"
      },
      "source": [
        "train_features, test_features, train_labels, test_labels = train_test_split(features, labels, test_size=0.25, random_state=42)"
      ],
      "execution_count": 3,
      "outputs": []
    },
    {
      "cell_type": "markdown",
      "metadata": {
        "id": "3wFaAfpgQK6p"
      },
      "source": [
        "## Visualise the data"
      ]
    },
    {
      "cell_type": "code",
      "metadata": {
        "id": "5VxroxdMQK6q",
        "colab": {
          "base_uri": "https://localhost:8080/",
          "height": 296
        },
        "outputId": "70d63754-cd41-4c55-d5c5-09fd6f6d9546"
      },
      "source": [
        "plt.plot(train_features, train_labels, \"bo\", label=\"Train data\")\n",
        "plt.plot(test_features, test_labels, \"ro\", label=\"Test data\")\n",
        "plt.xlabel(\"Invested hours\")\n",
        "plt.ylabel(\"Passed (1) or not (0)\")\n",
        "plt.legend(loc=\"best\")"
      ],
      "execution_count": 4,
      "outputs": [
        {
          "output_type": "execute_result",
          "data": {
            "text/plain": [
              "<matplotlib.legend.Legend at 0x7f89f67cbed0>"
            ]
          },
          "metadata": {
            "tags": []
          },
          "execution_count": 4
        },
        {
          "output_type": "display_data",
          "data": {
            "image/png": "[encoded data removed]",
            "text/plain": [
              "<Figure size 432x288 with 1 Axes>"
            ]
          },
          "metadata": {
            "tags": [],
            "needs_background": "light"
          }
        }
      ]
    },
    {
      "cell_type": "markdown",
      "metadata": {
        "id": "azE-mLoQQK6q"
      },
      "source": [
        "## `TODO` Perform logistic regression <a class=\"anchor\" id=\"todo\"></a>\n",
        "\n",
        "Goal: Predict if the students that studied the amount of time in `test_features` will pass or not. Store the predictions in `passed_pred`. Use the data provided in `train_features` and `train_labels` to fit your model."
      ]
    },
    {
      "cell_type": "code",
      "metadata": {
        "id": "SBXjDe26QK6q"
      },
      "source": [
        "# Templatetrain_features,train_labels\n",
        "passed_model = LogisticRegression()\n",
        "\n",
        "passed_model.fit(train_features, train_labels)\n",
        "passed_pred = passed_model.predict(test_features)\n"
      ],
      "execution_count": 7,
      "outputs": []
    },
    {
      "cell_type": "markdown",
      "metadata": {
        "id": "UEXtvOpVQK6r"
      },
      "source": [
        "## Prediction accuracy"
      ]
    },
    {
      "cell_type": "code",
      "metadata": {
        "id": "M5lYXgffQK6r",
        "colab": {
          "base_uri": "https://localhost:8080/"
        },
        "outputId": "7c370fd1-d3d4-4d21-8044-d001a11d477f"
      },
      "source": [
        "score = accuracy_score(passed_pred, test_labels)\n",
        "print(\"We scored {}/1.0!\".format(score))"
      ],
      "execution_count": 8,
      "outputs": [
        {
          "output_type": "stream",
          "text": [
            "We scored 0.75/1.0!\n"
          ],
          "name": "stdout"
        }
      ]
    },
    {
      "cell_type": "markdown",
      "metadata": {
        "id": "wLvdWcDGQK6r"
      },
      "source": [
        "## Plot regression and predictions\n",
        "\n",
        "For a new point $x$, \n",
        "$$\n",
        "x \\text{ is classified as }\n",
        "\\begin{cases}\n",
        "    1, &\\text{if } p(x) \\geq 0.5 \\\\\n",
        "    0, &\\text{if } p(x) < 0.5\n",
        "\\end{cases}\n",
        "$$\n",
        "where $p(x) = Pr(x = 1)$ is the probability of $x$ belonging to class \"1\"."
      ]
    },
    {
      "cell_type": "code",
      "metadata": {
        "scrolled": false,
        "id": "NaIXDYWUQK6r",
        "colab": {
          "base_uri": "https://localhost:8080/",
          "height": 514
        },
        "outputId": "41827fd1-fe6c-4c0c-8dfe-173b8d10ee67"
      },
      "source": [
        "x = np.linspace(0, 10, num=300).reshape(-1, 1)\n",
        "\n",
        "plt.figure(figsize=(16,8))\n",
        "plt.plot(x, passed_model.predict_proba(x)[:, 1], \"k--\", label=\"Logistic regression p(x)\")\n",
        "plt.axhline(y=0.5, color=\"r\", ls=\":\", label=\"Decision threshold\")  # a horizontal line\n",
        "\n",
        "plt.plot(train_features, train_labels, \"bo\", label=\"Training data\")\n",
        "plt.plot(test_features, passed_model.predict_proba(test_features)[:, 1], \"go\", fillstyle=\"none\", label=\"Probabilities for test set\")\n",
        "plt.plot(test_features, passed_pred, \"go\", label=\"Decisions for test set\")\n",
        "\n",
        "plt.xlabel(\"Invested hours\")\n",
        "plt.ylabel(\"Passes (1) or not (0)\")\n",
        "plt.legend(loc=\"best\")"
      ],
      "execution_count": 11,
      "outputs": [
        {
          "output_type": "execute_result",
          "data": {
            "text/plain": [
              "<matplotlib.legend.Legend at 0x7f89f628c650>"
            ]
          },
          "metadata": {
            "tags": []
          },
          "execution_count": 11
        },
        {
          "output_type": "display_data",
          "data": {
            "image/png": "[encoded data removed]",
            "text/plain": [
              "<Figure size 1152x576 with 1 Axes>"
            ]
          },
          "metadata": {
            "tags": [],
            "needs_background": "light"
          }
        }
      ]
    },
    {
      "cell_type": "markdown",
      "metadata": {
        "id": "AEirRE0cMLnN"
      },
      "source": [
        "##Solution"
      ]
    },
    {
      "cell_type": "code",
      "metadata": {
        "id": "wopfpiIQNEaV"
      },
      "source": [
        "# Perform logistic regression\n",
        "# Define the model\n",
        "model = LogisticRegression()\n",
        "# Fit the model to the training set\n",
        "model.fit(train_features,train_labels)\n",
        "# Predict on the test set\n",
        "passed_pred = model.predict(test_features)\n"
      ],
      "execution_count": null,
      "outputs": []
    }
  ]
}