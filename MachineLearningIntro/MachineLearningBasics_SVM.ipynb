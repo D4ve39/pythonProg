{
  "nbformat": 4,
  "nbformat_minor": 0,
  "metadata": {
    "colab": {
      "name": "Copie de Basics - SVM",
      "provenance": [],
      "collapsed_sections": [],
      "include_colab_link": true
    },
    "kernelspec": {
      "name": "python3",
      "display_name": "Python 3"
    },
    "language_info": {
      "name": "python"
    }
  },
  "cells": [
    {
      "cell_type": "markdown",
      "metadata": {
        "id": "view-in-github",
        "colab_type": "text"
      },
      "source": [
        "<a href=\"https://colab.research.google.com/github/D4ve39/pythonProg/blob/master/MachineLearningBasics_SVM.ipynb\" target=\"_parent\"><img src=\"https://colab.research.google.com/assets/colab-badge.svg\" alt=\"Open In Colab\"/></a>"
      ]
    },
    {
      "cell_type": "markdown",
      "metadata": {
        "id": "6ZV2KAHeQa9w"
      },
      "source": [
        "# Import"
      ]
    },
    {
      "cell_type": "code",
      "metadata": {
        "ExecuteTime": {
          "end_time": "2019-05-07T21:32:26.701782Z",
          "start_time": "2019-05-07T21:32:26.005427Z"
        },
        "id": "bCp9cgmDQa9z"
      },
      "source": [
        "from sklearn.svm import SVC\n",
        "from sklearn import datasets\n",
        "from sklearn.model_selection import train_test_split\n",
        "from sklearn.metrics import balanced_accuracy_score\n",
        "import numpy as np\n",
        "import pandas as pd\n",
        "import matplotlib.pyplot as plt"
      ],
      "execution_count": null,
      "outputs": []
    },
    {
      "cell_type": "markdown",
      "metadata": {
        "id": "FbzIMZgFQa90"
      },
      "source": [
        "# Load data\n",
        "The iris dataset consists of several features for three different kind of irises: Setosa, Versicolour, and Virginica. We will try to predict, based on a subset of these features, the category of the given iris sample. "
      ]
    },
    {
      "cell_type": "code",
      "metadata": {
        "ExecuteTime": {
          "end_time": "2019-05-07T21:32:27.345828Z",
          "start_time": "2019-05-07T21:32:27.333060Z"
        },
        "id": "M8W-xqHEQa91"
      },
      "source": [
        "iris = datasets.load_iris()\n",
        "\n",
        "# Let's select only the first two features (sepal length, sepal width)\n",
        "features = iris.data[:, 0:2]\n",
        "labels = iris.target\n",
        "\n",
        "# Randomize the data point\n",
        "train_features, test_features, train_labels, test_labels = train_test_split(features, labels, test_size=0.3, random_state=42)\n",
        "\n",
        "features.shape, train_features.shape, test_features.shape"
      ],
      "execution_count": null,
      "outputs": []
    },
    {
      "cell_type": "code",
      "metadata": {
        "ExecuteTime": {
          "end_time": "2019-05-07T21:32:28.150681Z",
          "start_time": "2019-05-07T21:32:28.145751Z"
        },
        "id": "K_z-vthGQa91"
      },
      "source": [
        "def make_meshgrid(x, y, h=.02):\n",
        "    x_min, x_max = x.min() - 1, x.max() + 1\n",
        "    y_min, y_max = y.min() - 1, y.max() + 1\n",
        "    xx, yy = np.meshgrid(np.arange(x_min, x_max, h),\n",
        "                         np.arange(y_min, y_max, h))\n",
        "    return xx, yy"
      ],
      "execution_count": null,
      "outputs": []
    },
    {
      "cell_type": "code",
      "metadata": {
        "ExecuteTime": {
          "end_time": "2019-05-07T21:32:28.637319Z",
          "start_time": "2019-05-07T21:32:28.529750Z"
        },
        "id": "9cGuDQRcQa91"
      },
      "source": [
        "xx, yy = make_meshgrid(train_features[:, 0], train_features[:,1])\n",
        "\n",
        "plt.scatter(train_features[:, 0], train_features[:, 1], c=train_labels, cmap=plt.cm.coolwarm, s=30, edgecolors='k')\n",
        "plt.xlabel('Sepal length')\n",
        "plt.ylabel('Sepal width')\n",
        "plt.xticks(())\n",
        "plt.yticks(())\n",
        "\n",
        "plt.show()"
      ],
      "execution_count": null,
      "outputs": []
    },
    {
      "cell_type": "markdown",
      "metadata": {
        "id": "IzmvnaYJQa92"
      },
      "source": [
        "# Support Vector Machine"
      ]
    },
    {
      "cell_type": "markdown",
      "metadata": {
        "id": "SmZUi8kHQa92"
      },
      "source": [
        "# `TODO`  Why?"
      ]
    },
    {
      "cell_type": "markdown",
      "metadata": {
        "ExecuteTime": {
          "end_time": "2019-05-05T21:29:46.781208Z",
          "start_time": "2019-05-05T21:29:46.766153Z"
        },
        "id": "lbw39PZMQa92"
      },
      "source": [
        "Support Vector Machine is again a **supervised learning** model very successful and popular, as it has successfully (compared to previous models) been applied to tasks such as image classification and natural language processing. It also has strong theoretical guarantess (unlike deep learning models), and it is both computationally and memory very efficient. Its main strenght is the so called **kernel-trick**, which allows you to implicitly map the input samples to a high dimensional space, in which the data points (potentially non linearly separable in the original space), become linearly separable. \n"
      ]
    },
    {
      "cell_type": "code",
      "metadata": {
        "ExecuteTime": {
          "end_time": "2019-05-07T21:34:43.278908Z",
          "start_time": "2019-05-07T21:34:43.276280Z"
        },
        "id": "EuktRAlsQa93"
      },
      "source": [
        "# Now it's your turn! Train and score your svm model (Hint: the code is very similar to the previous task!)\n",
        "\n",
        "# Create the SVM model\n",
        "svm = ...\n",
        "# Fit the SVM model\n",
        "..."
      ],
      "execution_count": null,
      "outputs": []
    },
    {
      "cell_type": "code",
      "metadata": {
        "ExecuteTime": {
          "end_time": "2019-05-07T21:35:32.184885Z",
          "start_time": "2019-05-07T21:35:31.963146Z"
        },
        "id": "hh77c8ZrQa93"
      },
      "source": [
        "# Plotting the results\n",
        "\n",
        "fig, sub = plt.subplots(1, 1)\n",
        "\n",
        "\n",
        "Z = svm.predict(np.c_[xx.ravel(), yy.ravel()])\n",
        "Z = Z.reshape(xx.shape)\n",
        "out = sub.contourf(xx, yy, Z, cmap=plt.cm.coolwarm, alpha=0.6)\n",
        "\n",
        "sub.scatter(train_features[:, 0], train_features[:, 1], c=train_labels, cmap=plt.cm.coolwarm, s=30, edgecolors='k')\n",
        "sub.set_xlim(xx.min(), xx.max())\n",
        "sub.set_ylim(yy.min(), yy.max())\n",
        "sub.set_xlabel('Sepal length')\n",
        "sub.set_ylabel('Sepal width')\n",
        "sub.set_xticks(())\n",
        "sub.set_yticks(())\n",
        "\n",
        "plt.show()\n",
        "\n"
      ],
      "execution_count": null,
      "outputs": []
    },
    {
      "cell_type": "markdown",
      "metadata": {
        "id": "03OjjYsvQa94"
      },
      "source": [
        "## `TODO`  Predicting new data points!\n",
        "Now let's try to use our model for prediction! Use the test_features array defined above to make prediction"
      ]
    },
    {
      "cell_type": "code",
      "metadata": {
        "ExecuteTime": {
          "end_time": "2019-05-07T21:34:28.526990Z",
          "start_time": "2019-05-07T21:34:28.522383Z"
        },
        "id": "l4hb9TveQa94"
      },
      "source": [
        "# Insert your code here, how well does our model perform on unseen data?\n",
        "\n",
        "predictions = ..."
      ],
      "execution_count": null,
      "outputs": []
    },
    {
      "cell_type": "code",
      "metadata": {
        "ExecuteTime": {
          "end_time": "2019-05-07T08:06:41.744278Z",
          "start_time": "2019-05-07T08:06:41.530776Z"
        },
        "id": "uVrYVbaYQa94"
      },
      "source": [
        "accuracy=balanced_accuracy_score(test_labels,predictions)\n",
        "print(\"The prediction accuracy is \",accuracy)\n",
        "# Plotting the results\n",
        "\n",
        "fig, sub = plt.subplots(1, 1)\n",
        "\n",
        "\n",
        "Z = svm.predict(np.c_[xx.ravel(), yy.ravel()])\n",
        "Z = Z.reshape(xx.shape)\n",
        "out = sub.contourf(xx, yy, Z, cmap=plt.cm.coolwarm, alpha=0.6)\n",
        "\n",
        "sub.scatter(train_features[:, 0], train_features[:, 1], c=train_labels, cmap=plt.cm.coolwarm, s=30, edgecolors='k')\n",
        "\n",
        "sub.scatter(test_features[:, 0], test_features[:, 1], c=predictions, cmap=plt.cm.coolwarm, s=60, edgecolors='y')\n",
        "\n",
        "sub.set_xlim(xx.min(), xx.max())\n",
        "sub.set_ylim(yy.min(), yy.max())\n",
        "sub.set_xlabel('Sepal length')\n",
        "sub.set_ylabel('Sepal width')\n",
        "sub.set_xticks(())\n",
        "sub.set_yticks(())\n",
        "\n",
        "plt.show()"
      ],
      "execution_count": null,
      "outputs": []
    },
    {
      "cell_type": "markdown",
      "metadata": {
        "id": "JGMzs3_BKjs5"
      },
      "source": [
        "# `TODO` Adjusting the parameters of the model\n",
        "The scikit-learn documentation of support vector machines lists a lot of parameters that can be adjusted. The most important one is the so-called \"regularisation parameter\" C.\n",
        "\n",
        "– Try out setting C to different values. (For example, 0.01, 1, 100,10000,1000000) \n",
        "\n",
        "– What do you observe (about the decision boundary and the prediction accuracy)?"
      ]
    },
    {
      "cell_type": "markdown",
      "metadata": {
        "id": "cKlR50C6Gj3O"
      },
      "source": [
        "\n",
        "#`TODO` Imbalanced classes\n",
        "– What happens if there are much more samples from one class than from another?\n",
        "\n",
        "– Can you think of ways to solve the problems arising from classes not being equally represented?\n",
        "\n",
        "Remark: For classifications models such as support vector machines and logistic regression, Scikit-learn already corrects for imbalalanced data by default."
      ]
    },
    {
      "cell_type": "markdown",
      "metadata": {
        "id": "AEirRE0cMLnN"
      },
      "source": [
        "##Solution"
      ]
    },
    {
      "cell_type": "code",
      "metadata": {
        "id": "wopfpiIQNEaV"
      },
      "source": [
        "\n",
        "# Define the model\n",
        "svm = SVC(C=1)\n",
        "# Fit the model to the training set\n",
        "svm.fit(train_features, train_labels)\n",
        "# Predict on the test set\n",
        "predictions = svm.predict(test_features)\n"
      ],
      "execution_count": null,
      "outputs": []
    }
  ]
}